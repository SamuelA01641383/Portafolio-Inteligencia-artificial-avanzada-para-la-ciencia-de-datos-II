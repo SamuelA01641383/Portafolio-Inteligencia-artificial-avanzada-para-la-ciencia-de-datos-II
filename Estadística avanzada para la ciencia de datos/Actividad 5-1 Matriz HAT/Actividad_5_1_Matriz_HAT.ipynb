{
  "nbformat": 4,
  "nbformat_minor": 0,
  "metadata": {
    "colab": {
      "provenance": []
    },
    "kernelspec": {
      "name": "python3",
      "display_name": "Python 3"
    },
    "language_info": {
      "name": "python"
    }
  },
  "cells": [
    {
      "cell_type": "markdown",
      "source": [
        "2.Para el siguiente conjunto de datos, obtener la Matriz HAT, H, los valores predichos, y ̂, y los coeficientes de la ecuación de regresión β.\n",
        "\n",
        "X1: 2 3 5 7 9\n",
        "\n",
        "y: 5 8 7 10 12"
      ],
      "metadata": {
        "id": "l8gLBI-0V5ha"
      }
    },
    {
      "cell_type": "code",
      "execution_count": 9,
      "metadata": {
        "colab": {
          "base_uri": "https://localhost:8080/"
        },
        "id": "lyJAaCdBVRM9",
        "outputId": "7103f5f2-dd05-4266-d5ce-ed994c4d2142"
      },
      "outputs": [
        {
          "output_type": "stream",
          "name": "stdout",
          "text": [
            "Matriz Hat (H):\n",
            "[[ 0.51219512  0.41463415  0.2195122   0.02439024 -0.17073171]\n",
            " [ 0.41463415  0.34756098  0.21341463  0.07926829 -0.05487805]\n",
            " [ 0.2195122   0.21341463  0.20121951  0.18902439  0.17682927]\n",
            " [ 0.02439024  0.07926829  0.18902439  0.29878049  0.40853659]\n",
            " [-0.17073171 -0.05487805  0.17682927  0.40853659  0.6402439 ]]\n",
            "\n",
            "Coeficientes de regresión (β_hat):\n",
            "[3.86585366 0.87195122]\n",
            "\n",
            "Valores predichos (y_hat):\n",
            "[ 5.6097561   6.48170732  8.22560976  9.9695122  11.71341463]\n"
          ]
        }
      ],
      "source": [
        "import numpy as np\n",
        "\n",
        "X = np.array([[1,2],\n",
        "              [1,3],\n",
        "              [1,5],\n",
        "              [1,7],\n",
        "              [1,9]\n",
        "              ])\n",
        "\n",
        "y = np.array([5, 8, 7, 10, 12])\n",
        "\n",
        "# HAT matrix calulation\n",
        "H = X @ np.linalg.inv(X.T @ X) @ X.T\n",
        "print(\"Matriz Hat (H):\")\n",
        "print(H)\n",
        "\n",
        "# β_hat (coeficientes de regresión)\n",
        "X_transpose = X.T\n",
        "beta_hat = np.linalg.inv(X_transpose @ X) @ X_transpose @ y\n",
        "\n",
        "print(\"\\nCoeficientes de regresión (β_hat):\")\n",
        "print(beta_hat)\n",
        "\n",
        "# y_hat (valores predichos)\n",
        "y_hat = X @ beta_hat\n",
        "\n",
        "print(\"\\nValores predichos (y_hat):\")\n",
        "print(y_hat)\n"
      ]
    },
    {
      "cell_type": "markdown",
      "source": [
        "3.Utilizando los Datos “Cirugía de Hígado” obtener la matriz HAT, los valores predichos, y ̂, y los coeficientes de la ecuación de regresión β utilizando el método de matrices. (Puede realizarse con cualquier paquete).\n",
        "\n",
        "Estandarizar las variables con MinMax Scaler antes de realizar las operaciones con matrices."
      ],
      "metadata": {
        "id": "97b_hwVVjg6H"
      }
    },
    {
      "cell_type": "code",
      "source": [
        "import pandas as pd\n",
        "import numpy as np\n",
        "from sklearn.preprocessing import MinMaxScaler\n",
        "from sklearn.linear_model import LinearRegression"
      ],
      "metadata": {
        "id": "R7I3VY2-i3YF"
      },
      "execution_count": 2,
      "outputs": []
    },
    {
      "cell_type": "code",
      "source": [
        "df = pd.read_excel('sample_data/HAT.xlsx')"
      ],
      "metadata": {
        "id": "yoL6_F00i4zX"
      },
      "execution_count": 3,
      "outputs": []
    },
    {
      "cell_type": "code",
      "source": [
        "from sklearn.preprocessing import MinMaxScaler\n",
        "\n",
        "X = df.iloc[:, :-1]\n",
        "y = df.iloc[:, -1]\n",
        "\n",
        "# Estandariza las características\n",
        "scaler = MinMaxScaler()\n",
        "X_scaled = scaler.fit_transform(X)"
      ],
      "metadata": {
        "id": "djN24sMpjIUV"
      },
      "execution_count": 4,
      "outputs": []
    },
    {
      "cell_type": "code",
      "source": [
        "X_b = np.hstack([np.ones((X_scaled.shape[0], 1)), X_scaled])  # Agrega columna de unos"
      ],
      "metadata": {
        "id": "2H-PJW75jKjg"
      },
      "execution_count": 5,
      "outputs": []
    },
    {
      "cell_type": "code",
      "source": [
        "#matriz HAT\n",
        "#np.set_printoptions(threshold=np.inf)\n",
        "np.set_printoptions(threshold=1000)\n",
        "\n",
        "H = X_b @ np.linalg.inv(X_b.T @ X_b) @ X_b.T\n",
        "print(\"Matriz HAT:\")\n",
        "print(H)"
      ],
      "metadata": {
        "colab": {
          "base_uri": "https://localhost:8080/"
        },
        "id": "mTn-rRHijMDT",
        "outputId": "22d5f2e9-6bf5-4b30-bb35-ffc26c9db2a2"
      },
      "execution_count": 8,
      "outputs": [
        {
          "output_type": "stream",
          "name": "stdout",
          "text": [
            "Matriz HAT:\n",
            "[[ 0.03714196  0.01278513  0.03153001 ... -0.0107616   0.03002929\n",
            "   0.00244981]\n",
            " [ 0.01278513  0.06106075  0.04827415 ...  0.02342793  0.0143413\n",
            "   0.03831749]\n",
            " [ 0.03153001  0.04827415  0.09511866 ...  0.02121118  0.02055136\n",
            "   0.03079561]\n",
            " ...\n",
            " [-0.0107616   0.02342793  0.02121118 ...  0.10349403  0.00417997\n",
            "   0.03037262]\n",
            " [ 0.03002929  0.0143413   0.02055136 ...  0.00417997  0.06246334\n",
            "  -0.00802438]\n",
            " [ 0.00244981  0.03831749  0.03079561 ...  0.03037262 -0.00802438\n",
            "   0.05864247]]\n"
          ]
        }
      ]
    },
    {
      "cell_type": "code",
      "source": [
        "# Calcular los valores predichos\n",
        "y_hat = H @ y.values\n",
        "print(\"Valores predichos (y_hat):\")\n",
        "print(y_hat)"
      ],
      "metadata": {
        "colab": {
          "base_uri": "https://localhost:8080/"
        },
        "id": "s9EtJFQYjNhL",
        "outputId": "7ea57165-78e9-4f91-86e8-533a4bc933ae"
      },
      "execution_count": null,
      "outputs": [
        {
          "output_type": "stream",
          "name": "stdout",
          "text": [
            "Valores predichos (y_hat):\n",
            "[ 706.25623722  430.82292124  732.22983195  425.03957611 1454.587552\n",
            "  317.98512422  561.43434506  620.57029786  814.99238167  761.68391557\n",
            "  989.9519364   228.02181205 1394.13461057 1050.29172024  937.95668893\n",
            "  732.48434715  418.09976441   58.32293366  857.99665125  939.03472439\n",
            "  555.53153245  366.02513011  485.52130235  817.77817446  861.31877768\n",
            "  669.35808718  592.75876392 1619.88673751  399.48541635  596.03964243\n",
            "  257.21831085  163.93595245  594.67195134 1143.59947369  512.12738287\n",
            "  702.86128551  629.09497899  563.49249113  556.62971999  607.66774824\n",
            "  423.46168884  569.50576666 1363.25897377  625.40911054  688.74643782\n",
            "  590.69719298  948.046226   1333.78069235  712.00261732 1065.38071841\n",
            "  462.70846831  649.64082214  690.30288166  958.05440017  330.98090005\n",
            "  811.81615789  635.24982009  367.64186795  629.61451147  469.62155034\n",
            "  154.73023565  369.81392347  403.26975861  902.08295831  600.59893803\n",
            "  772.29123143  207.7278467   396.43186123 1229.83955625  633.00436345\n",
            "  424.81983957  475.31740512  993.2862035   197.38922035 1290.08457201\n",
            "  605.07146825 1006.51638101  817.39664738  616.69071501  333.13872555\n",
            "  621.92856032  678.01871248  455.39524007  842.81200029  215.61353579\n",
            " 1044.1331181   629.57478633  526.79553852  902.07905149  722.37107654\n",
            "  212.15682923  745.77909508  242.52437636  565.21119037  222.12633537\n",
            "  839.18478601  535.39633923  868.71602558  607.10394711  277.08092447\n",
            " 1086.53421927  698.14563064 1093.148018    566.51505469  568.33491022\n",
            "  584.36793863  385.90989128  459.71998145]\n"
          ]
        }
      ]
    },
    {
      "cell_type": "code",
      "source": [
        "# Calcular los coeficientes de regresión\n",
        "beta = np.linalg.inv(X_b.T @ X_b) @ X_b.T @ y.values\n",
        "print(\"Coeficientes de regresión (β):\")\n",
        "print(beta)"
      ],
      "metadata": {
        "colab": {
          "base_uri": "https://localhost:8080/"
        },
        "id": "UcDuiT80jOqm",
        "outputId": "651762f0-582a-4975-ff91-c633d933a06c"
      },
      "execution_count": null,
      "outputs": [
        {
          "output_type": "stream",
          "name": "stdout",
          "text": [
            "Coeficientes de regresión (β):\n",
            "[-575.86374747  453.26085291  738.23244281  854.14304366  429.43164879\n",
            "   25.63892773   13.09258075  -41.26764482  195.70703222]\n"
          ]
        }
      ]
    },
    {
      "cell_type": "markdown",
      "source": [
        "4.Concluir sobre el significado de los valores de apalancamiento y formular la ecuación de regresión."
      ],
      "metadata": {
        "id": "mMMxVAI_k9-s"
      }
    },
    {
      "cell_type": "markdown",
      "source": [
        "Los valores de apalancamiento se encuentran en la diagonal de la matriz H y nos indican cuanto influyen los puntos de datos en el modelo. Podemos observar en la matriz del higado que la mayoria de los valores son muy pequeños, menores a 0.1, esto es bueno ya que significa que todos los valores tienen una influencia normal sobre el modelo, si el valor fuera mas grande, cercano a 1, indicaria una influencia muy grande y puede indicar datos atipicos.\n",
        "\n",
        "La ecuación de regresión seria la siguente:\n",
        "\n",
        "y_hat = -575.86 + 453.26x1 + 738.23x2 + 854.14x3 + 429.43x4 +25.64x5 + 13.09x6 - 41.27x7 + 195.71x8\n",
        "\n",
        "-575.86 es el valor predicho de y_hat cuando todas las variables independientes son iguales a cero.\n",
        "Cada aumento en una variable representa un aumento de y_hat del tamaño del coeficiente de dicha variable, entre mas grande el coeficiente mas infuyente es esa variable.\n",
        "\n",
        "\n"
      ],
      "metadata": {
        "id": "G4uiIfXz7gYj"
      }
    }
  ]
}